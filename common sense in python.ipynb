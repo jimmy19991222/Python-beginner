{
 "cells": [
  {
   "cell_type": "code",
   "execution_count": 1,
   "metadata": {},
   "outputs": [
    {
     "data": {
      "text/plain": [
       "600"
      ]
     },
     "execution_count": 1,
     "metadata": {},
     "output_type": "execute_result"
    }
   ],
   "source": [
    "100+200+300\n",
    "# display only in jupyter notebook"
   ]
  },
  {
   "cell_type": "code",
   "execution_count": 2,
   "metadata": {},
   "outputs": [
    {
     "name": "stdout",
     "output_type": "stream",
     "text": [
      "600\n"
     ]
    }
   ],
   "source": [
    "print(100+200+300)\n",
    "# use print to output value in your local files\n",
    "# recommend mini Code editor \"Visual Studio Code\" by microsoft\n",
    "# how to make use of terminal is hard to show in jupyter notebook\n",
    "# maybe I'll teach you offline?"
   ]
  },
  {
   "cell_type": "code",
   "execution_count": 3,
   "metadata": {},
   "outputs": [
    {
     "data": {
      "text/plain": [
       "1024"
      ]
     },
     "execution_count": 3,
     "metadata": {},
     "output_type": "execute_result"
    }
   ],
   "source": [
    "2**10\n",
    "# **means^"
   ]
  },
  {
   "cell_type": "code",
   "execution_count": 4,
   "metadata": {},
   "outputs": [
    {
     "name": "stdout",
     "output_type": "stream",
     "text": [
      "hello,fangfang!\n"
     ]
    }
   ],
   "source": [
    "print('hello,fangfang!')\n",
    "# being'hello world' traditionally lol\n",
    "\n",
    "# use '#' to annotate\n",
    "# use ‘’ or \"\" to include a string"
   ]
  },
  {
   "cell_type": "code",
   "execution_count": 5,
   "metadata": {},
   "outputs": [
    {
     "name": "stdout",
     "output_type": "stream",
     "text": [
      "100 + 200 = 300\n"
     ]
    }
   ],
   "source": [
    "print('100 + 200 =',100+200)\n",
    "# '100 + 200 =' is a string while 100+200 equal to int 300"
   ]
  },
  {
   "cell_type": "code",
   "execution_count": 6,
   "metadata": {},
   "outputs": [
    {
     "name": "stdout",
     "output_type": "stream",
     "text": [
      "What is your name?Fangfang\n"
     ]
    }
   ],
   "source": [
    "# how about input?\n",
    "\n",
    "name = input('What is your name?')"
   ]
  },
  {
   "cell_type": "code",
   "execution_count": 7,
   "metadata": {},
   "outputs": [
    {
     "name": "stdout",
     "output_type": "stream",
     "text": [
      "Hello,Fangfang!\n"
     ]
    }
   ],
   "source": [
    "print('Hello,' + name + '!')"
   ]
  },
  {
   "cell_type": "code",
   "execution_count": 8,
   "metadata": {},
   "outputs": [
    {
     "name": "stdout",
     "output_type": "stream",
     "text": [
      "100\n"
     ]
    }
   ],
   "source": [
    "# print absolute value of an integer\n",
    "\n",
    "a = 100\n",
    "if a >= 0:\n",
    "    print(a)\n",
    "else:\n",
    "    print(-a)\n",
    "    \n",
    "# python is an interpreted language(解释型语言)\n",
    "# which is indent sensitive(重视缩进的) \n",
    "# indent means 'tab' on the keyboard\n",
    "# pay attention to ':'"
   ]
  },
  {
   "cell_type": "code",
   "execution_count": 9,
   "metadata": {},
   "outputs": [
    {
     "data": {
      "text/plain": [
       "65280"
      ]
     },
     "execution_count": 9,
     "metadata": {},
     "output_type": "execute_result"
    }
   ],
   "source": [
    "# let's learn datatype(数据类型) then!\n",
    "\n",
    "# integers like 1，100，-8080 and so on\n",
    "# since computer performs calculations in binary(二进制),hex digitals(十六进制) are used frequently\n",
    "# hexadecimal numbers is expressed in the form of 0xff00\n",
    "\n",
    "0xff00"
   ]
  },
  {
   "cell_type": "code",
   "execution_count": 10,
   "metadata": {},
   "outputs": [
    {
     "data": {
      "text/plain": [
       "(1.2e-05, 736000000.0)"
      ]
     },
     "execution_count": 10,
     "metadata": {},
     "output_type": "execute_result"
    }
   ],
   "source": [
    "# floating point number like 3.14, 1.2e-5, 7.36e8\n",
    "\n",
    "1.2e-5,7.36e8"
   ]
  },
  {
   "cell_type": "code",
   "execution_count": 11,
   "metadata": {},
   "outputs": [
    {
     "name": "stdout",
     "output_type": "stream",
     "text": [
      "this is a tab！\t this is a line break!\n",
      "\n",
      "I'm \"Baobao\" 's boyfriend!\n"
     ]
    }
   ],
   "source": [
    "# strings, we see what are strings before\n",
    "# what does '\\n' and '\\t' means?\n",
    "\n",
    "print('this is a tab！\\t this is a line break!\\n')\n",
    "\n",
    "print('I\\'m \\\"Baobao\\\" \\'s boyfriend!')\n",
    "\n",
    "# see? we use \\ to avoid duplication of ''\n"
   ]
  },
  {
   "cell_type": "code",
   "execution_count": 12,
   "metadata": {},
   "outputs": [
    {
     "name": "stdout",
     "output_type": "stream",
     "text": [
      "False\n",
      "True\n",
      "False\n"
     ]
    }
   ],
   "source": [
    "# bool type means 'True or False'\n",
    "# they can be calculated by 'and' ,'or','not'\n",
    "\n",
    "a = True\n",
    "b = False\n",
    "\n",
    "print(a and b)\n",
    "print(a or (not b))\n",
    "print(5>3 and 3<=1)"
   ]
  },
  {
   "cell_type": "code",
   "execution_count": 13,
   "metadata": {},
   "outputs": [
    {
     "name": "stdout",
     "output_type": "stream",
     "text": [
      "adult\n"
     ]
    }
   ],
   "source": [
    "# we use bools in conditional judgment\n",
    "# here is an example:\n",
    "age = 20\n",
    "\n",
    "if age>=18:\n",
    "    print('adult')\n",
    "else:\n",
    "    print('teenager')"
   ]
  },
  {
   "cell_type": "code",
   "execution_count": 14,
   "metadata": {},
   "outputs": [],
   "source": [
    "# variable\n",
    "# dynamic language and static language\n",
    "\n",
    "# datatype is changable -->dynamic language\n",
    "a = 'ABC';\n",
    "a = 123;\n",
    "\n",
    "# while static language express unchangable datatype\n",
    "# their datatype should be daclared \n",
    "\n",
    "# int x = 123; \n",
    "# while it is a sentence in java, I just want to tell the difference "
   ]
  },
  {
   "cell_type": "code",
   "execution_count": 15,
   "metadata": {},
   "outputs": [],
   "source": [
    "# constant\n",
    "# it is still a variable though,but we see it as an constant\n",
    "\n",
    "PI = 3.14159265359"
   ]
  },
  {
   "cell_type": "code",
   "execution_count": 16,
   "metadata": {},
   "outputs": [
    {
     "name": "stdout",
     "output_type": "stream",
     "text": [
      "3.3333333333333335\n",
      "3\n",
      "1\n"
     ]
    }
   ],
   "source": [
    "# there are two genres of division in python\n",
    "print(10/3)\n",
    "\n",
    "print(10//3)\n",
    "\n",
    "# mod\n",
    "\n",
    "print(10%3)"
   ]
  },
  {
   "cell_type": "code",
   "execution_count": 17,
   "metadata": {},
   "outputs": [
    {
     "name": "stdout",
     "output_type": "stream",
     "text": [
      "65\n",
      "20013\n",
      "B\n",
      "文\n",
      "中文\n"
     ]
    }
   ],
   "source": [
    "# about encode\n",
    "# you may hear about ASCII, it is used to encode text information \n",
    "# so that computer can deal with text strings rather than just numbers\n",
    "# in ASCII, there is a consistent one-to-one match between characters and number\n",
    "# like A correspond to 65, z to 122\n",
    "\n",
    "# Chinese characters are encodered by GD2313\n",
    "\n",
    "# python provide ord() to get the integer expression of string\n",
    "# and chr() to tranfer number to its corresponding string\n",
    "\n",
    "print(ord('A'))\n",
    "\n",
    "print(ord('中'))\n",
    "\n",
    "print(chr(66))\n",
    "\n",
    "print(chr(25991))\n",
    "\n",
    "# if you have the encoding number, you can write strings like this in hex digital\n",
    "\n",
    "print('\\u4e2d\\u6587')"
   ]
  },
  {
   "cell_type": "code",
   "execution_count": 18,
   "metadata": {},
   "outputs": [
    {
     "name": "stdout",
     "output_type": "stream",
     "text": [
      "3\n",
      "2\n"
     ]
    }
   ],
   "source": [
    "# to see how many letters the string include, we use len()\n",
    "\n",
    "print(len('ABC'))\n",
    "\n",
    "print(len('中文'))"
   ]
  },
  {
   "cell_type": "code",
   "execution_count": 19,
   "metadata": {},
   "outputs": [
    {
     "name": "stdout",
     "output_type": "stream",
     "text": [
      "Hi,Baobao,you have my heart!\n",
      "Age:22 \t qualified:True\n",
      "Lovely baobao lose 5.2 kg\n"
     ]
    }
   ],
   "source": [
    "# about format\n",
    "# we use % just the same as it is in the C or C++ to get format files\n",
    "\n",
    "print('Hi,%s,you have my %s!'%('Baobao','heart'))\n",
    "\n",
    "# %d-->integer    %f-->float   %s-->string\n",
    "# if you are not sure about the datatype, string always works\n",
    "\n",
    "print('Age:%s \\t qualified:%s' % (22,True))\n",
    "\n",
    "#another way to format string is function format() and {0},{1},etc.\n",
    "print('Lovely {0} lose {1:.1f} kg'.format('baobao',5.153) )"
   ]
  },
  {
   "cell_type": "code",
   "execution_count": 20,
   "metadata": {},
   "outputs": [
    {
     "name": "stdout",
     "output_type": "stream",
     "text": [
      "['baobao', 'relatives', 'friends']\n",
      "the length of loveones is 3\n"
     ]
    }
   ],
   "source": [
    "# using list\n",
    "# list use [] to include all the components\n",
    "\n",
    "lovedones = ['baobao','relatives','friends']\n",
    "print(lovedones)\n",
    "\n",
    "# use len() to show length of list\n",
    "print('the length of loveones is %s'%(len(lovedones)))"
   ]
  },
  {
   "cell_type": "code",
   "execution_count": 21,
   "metadata": {},
   "outputs": [
    {
     "name": "stdout",
     "output_type": "stream",
     "text": [
      "baobao relatives friends\n",
      "friends relatives baobao\n"
     ]
    }
   ],
   "source": [
    "# to address the component,we use[x], x range from 0 to len()-1\n",
    "\n",
    "print(lovedones[0],lovedones[1],lovedones[2])\n",
    "\n",
    "# if index is out of range, there will be an IndexError\n",
    "# we can use index=-1 as well to get the last component and so on\n",
    "# it is to say that there are two ways to encode the list:forward and backward\n",
    "\n",
    "print(lovedones[-1],lovedones[-2],lovedones[-3])"
   ]
  },
  {
   "cell_type": "code",
   "execution_count": 22,
   "metadata": {},
   "outputs": [
    {
     "name": "stdout",
     "output_type": "stream",
     "text": [
      "['baobao', 'relatives', 'friends', 'myself']\n",
      "['baobao', 'relatives', 'friends']\n",
      "['baobao', 'myself', 'relatives', 'friends']\n",
      "['baobao', 'relatives', 'friends']\n"
     ]
    }
   ],
   "source": [
    "# list is a changable ordered list(可变的有序表)\n",
    "# we can add new component at the end of the list using append()\n",
    "\n",
    "lovedones.append('myself')\n",
    "print(lovedones)\n",
    "\n",
    "# we can delete the last component using pop()\n",
    "lovedones.pop()\n",
    "print(lovedones)\n",
    "\n",
    "# we can insert a new component in the position we want\n",
    "# index is the same as we talk before,from 0 to len()-1\n",
    "\n",
    "lovedones.insert(1,'myself')\n",
    "print(lovedones)\n",
    "\n",
    "# pop(x) can delete the component in the x position as well\n",
    "lovedones.pop(1)\n",
    "print(lovedones)"
   ]
  },
  {
   "cell_type": "code",
   "execution_count": 23,
   "metadata": {},
   "outputs": [
    {
     "name": "stdout",
     "output_type": "stream",
     "text": [
      "['baobao', 'relatives', 'myself']\n"
     ]
    }
   ],
   "source": [
    "# we can also change component by direct assignment\n",
    "lovedones[2] = 'myself'\n",
    "print(lovedones)"
   ]
  },
  {
   "cell_type": "code",
   "execution_count": 24,
   "metadata": {},
   "outputs": [
    {
     "name": "stdout",
     "output_type": "stream",
     "text": [
      "['Baobao and me', 99999, True]\n",
      "['python', 'java', ['asp', 'php']]\n",
      "3\n",
      "php\n"
     ]
    }
   ],
   "source": [
    "# absolutely, the components' datatype can be different\n",
    "X = ['Baobao and me',99999,True]\n",
    "print(X)\n",
    "\n",
    "# and even include a small list\n",
    "S = ['python','java',['asp','php']]\n",
    "print(S)\n",
    "\n",
    "# it is worth mentioning that the length\n",
    "# included list is seen as ONE component, we can see S as an two-dim array\n",
    "\n",
    "print(len(S))\n",
    "\n",
    "# if we want to get 'php' we should tell s[2][1]\n",
    "\n",
    "print(S[2][1])"
   ]
  },
  {
   "cell_type": "code",
   "execution_count": 25,
   "metadata": {},
   "outputs": [
    {
     "name": "stdout",
     "output_type": "stream",
     "text": [
      "0\n"
     ]
    }
   ],
   "source": [
    "# the length of an empty list is 0\n",
    "print(len([]))"
   ]
  },
  {
   "cell_type": "code",
   "execution_count": 26,
   "metadata": {},
   "outputs": [
    {
     "name": "stdout",
     "output_type": "stream",
     "text": [
      "baobao\n",
      "(1,)\n"
     ]
    }
   ],
   "source": [
    "# using tuple\n",
    "# we use () to define a tuple\n",
    "# tuple is almost the same as list,but it is unchangable after define\n",
    "# there are NO append() or insert()\n",
    "# we can only visit tuple\n",
    "# why we need tuple? Because it is safer\n",
    "\n",
    "lovedones = ('baobao','relatives','friends')\n",
    "print(lovedones[0])\n",
    "\n",
    "# about the trap of tuple when it include only one component\n",
    "# t=(1) is define a number rather than a tuple\n",
    "# so we need to say t=(1,) to disambiguate\n",
    "t = (1,)\n",
    "print(t)"
   ]
  },
  {
   "cell_type": "code",
   "execution_count": 27,
   "metadata": {},
   "outputs": [
    {
     "name": "stdout",
     "output_type": "stream",
     "text": [
      "('a', 'b', ['A', 'B'])\n"
     ]
    }
   ],
   "source": [
    "# however, we can change the list in a tuple like this\n",
    "z = ('a','b',['X','Y'])\n",
    "z[2][0] = 'A'\n",
    "z[2][1] = 'B'\n",
    "print(z)"
   ]
  },
  {
   "cell_type": "code",
   "execution_count": 28,
   "metadata": {},
   "outputs": [
    {
     "name": "stdout",
     "output_type": "stream",
     "text": [
      "you are an adult\n"
     ]
    }
   ],
   "source": [
    "# conditional judgement is still important in python\n",
    "age = 22 \n",
    "if age >= 18:\n",
    "    print('you are an adult')\n",
    "else:\n",
    "    print('you are a teenager')\n",
    "    \n",
    "# don't leave ':'"
   ]
  },
  {
   "cell_type": "code",
   "execution_count": 29,
   "metadata": {},
   "outputs": [
    {
     "name": "stdout",
     "output_type": "stream",
     "text": [
      "you are a kid\n"
     ]
    }
   ],
   "source": [
    "# you can use elif to judge even finer\n",
    "age = 3\n",
    "if age >= 18:\n",
    "    print('you are an adult')\n",
    "elif age >= 6:\n",
    "    print('you are a teenager')\n",
    "else:\n",
    "    print('you are a kid')"
   ]
  },
  {
   "cell_type": "code",
   "execution_count": 30,
   "metadata": {},
   "outputs": [
    {
     "name": "stdout",
     "output_type": "stream",
     "text": [
      "Fangfang\n",
      "Baobao\n",
      "xiaohua\n"
     ]
    }
   ],
   "source": [
    "# about loop\n",
    "# for...in.. can realize the target of loop\n",
    "\n",
    "names = ['Fangfang','Baobao','xiaohua']\n",
    "for name in names:\n",
    "    print(name)"
   ]
  },
  {
   "cell_type": "code",
   "execution_count": 31,
   "metadata": {},
   "outputs": [
    {
     "name": "stdout",
     "output_type": "stream",
     "text": [
      "[0, 1, 2, 3, 4]\n",
      "5050\n"
     ]
    }
   ],
   "source": [
    "# range(x) can generate an integer list, from 0-(x-1)\n",
    "print(list(range(5)))\n",
    "\n",
    "# then we can sum up 0-100 easily\n",
    "sum = 0\n",
    "for x in range(101):\n",
    "    sum = sum + x\n",
    "print(sum)"
   ]
  },
  {
   "cell_type": "code",
   "execution_count": 32,
   "metadata": {},
   "outputs": [
    {
     "name": "stdout",
     "output_type": "stream",
     "text": [
      "2500\n"
     ]
    }
   ],
   "source": [
    "# while is another structure can make a loop\n",
    "# we can sum up all the odd numbers less than 100 using while sentences\n",
    "\n",
    "sum = 0\n",
    "n = 99\n",
    "while n > 0:\n",
    "    sum = sum + n\n",
    "    n = n-2\n",
    "print(sum)"
   ]
  },
  {
   "cell_type": "code",
   "execution_count": 33,
   "metadata": {},
   "outputs": [
    {
     "name": "stdout",
     "output_type": "stream",
     "text": [
      "1\n",
      "2\n",
      "3\n",
      "4\n",
      "5\n",
      "6\n",
      "7\n",
      "8\n",
      "9\n",
      "10\n",
      "END\n"
     ]
    }
   ],
   "source": [
    "# break is a keyword to interrupt a loop\n",
    "n = 1\n",
    "while n <= 100:\n",
    "    if n>10:\n",
    "        break\n",
    "    print(n)\n",
    "    n = n + 1\n",
    "print('END')\n",
    "# we can see the code block only print 1-10"
   ]
  },
  {
   "cell_type": "code",
   "execution_count": 34,
   "metadata": {},
   "outputs": [
    {
     "name": "stdout",
     "output_type": "stream",
     "text": [
      "1\n",
      "3\n",
      "5\n",
      "7\n",
      "9\n"
     ]
    }
   ],
   "source": [
    "# continue is another keyword to skip this turn of loop and jump into next turn\n",
    "# we can print all the odd numbers less than 10 using continue\n",
    "\n",
    "n=0\n",
    "while n < 10:\n",
    "    n = n + 1\n",
    "    if n % 2 == 0:\n",
    "        continue\n",
    "    print(n)"
   ]
  }
 ],
 "metadata": {
  "kernelspec": {
   "display_name": "Python [conda env:deeplearning]",
   "language": "python",
   "name": "conda-env-deeplearning-py"
  },
  "language_info": {
   "codemirror_mode": {
    "name": "ipython",
    "version": 3
   },
   "file_extension": ".py",
   "mimetype": "text/x-python",
   "name": "python",
   "nbconvert_exporter": "python",
   "pygments_lexer": "ipython3",
   "version": "3.8.5"
  }
 },
 "nbformat": 4,
 "nbformat_minor": 4
}
